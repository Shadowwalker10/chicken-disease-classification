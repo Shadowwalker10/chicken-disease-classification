{
 "cells": [
  {
   "cell_type": "code",
   "execution_count": 1,
   "metadata": {},
   "outputs": [],
   "source": [
    "import os\n",
    "import shutil"
   ]
  },
  {
   "cell_type": "code",
   "execution_count": 2,
   "metadata": {},
   "outputs": [
    {
     "data": {
      "text/plain": [
       "'d:\\\\Artificial Intelligence and Machine Learning\\\\End2End Projects\\\\chicken-disease-classification\\\\research'"
      ]
     },
     "execution_count": 2,
     "metadata": {},
     "output_type": "execute_result"
    }
   ],
   "source": [
    "%pwd"
   ]
  },
  {
   "cell_type": "code",
   "execution_count": 3,
   "metadata": {},
   "outputs": [
    {
     "data": {
      "text/plain": [
       "'d:\\\\Artificial Intelligence and Machine Learning\\\\End2End Projects\\\\chicken-disease-classification'"
      ]
     },
     "execution_count": 3,
     "metadata": {},
     "output_type": "execute_result"
    }
   ],
   "source": [
    "os.chdir(\"../\")\n",
    "%pwd"
   ]
  },
  {
   "cell_type": "code",
   "execution_count": 26,
   "metadata": {},
   "outputs": [],
   "source": [
    "## Define Entity for Preparing the Model\n",
    "from dataclasses import dataclass\n",
    "from pathlib import Path\n",
    "\n",
    "@dataclass(frozen = True)\n",
    "class PrepareBaseModelConfig:\n",
    "    root_dir: Path\n",
    "    base_model_path: Path\n",
    "    updated_base_model_path: Path\n",
    "    params_input_shape: list\n",
    "    params_batch_size : int\n",
    "    params_num_classes : int\n",
    "    params_weights: str\n",
    "    params_include_top: bool\n",
    "    params_learning_rate: float\n",
    "    params_horizontal_flip: bool\n",
    "    params_rotation_range: float\n",
    "    params_zoom_range: float\n",
    "    params_epochs: int\n",
    "    params_dropout_rate: float\n",
    "    params_weight_decay: float\n",
    "    params_freeze_all: bool\n",
    "    params_freeze_till: int\n"
   ]
  },
  {
   "cell_type": "code",
   "execution_count": 27,
   "metadata": {},
   "outputs": [],
   "source": [
    "## Update Configuration Manager\n",
    "from src.cnnclassifier.constants import *\n",
    "from src.cnnclassifier.utils.common import *"
   ]
  },
  {
   "cell_type": "code",
   "execution_count": 28,
   "metadata": {},
   "outputs": [],
   "source": [
    "class ConfigurationManager:\n",
    "    def __init__(self, \n",
    "                 config_filepath = CONFIG_FILE_PATH,\n",
    "                 params_filepath = PARAMS_FILE_PATH,\n",
    "                 secret_filepath = SECRET_FILE_PATH):\n",
    "        self.config = read_yaml(config_filepath)\n",
    "        self.params = read_yaml(params_filepath)\n",
    "        self.secret = read_yaml(secret_filepath)\n",
    "\n",
    "        \n",
    "\n",
    "        create_directories_files([self.config.artifacts_root])\n",
    "\n",
    "    def get_prepare_base_model_config(self)->PrepareBaseModelConfig:\n",
    "        config = self.config.prepare_base_model\n",
    "        create_directories_files([config.root_dir])\n",
    "\n",
    "        prepare_base_model_config = PrepareBaseModelConfig(root_dir = Path(config.root_dir), \n",
    "                                                           base_model_path = Path(config.base_model_path),\n",
    "                                                           updated_base_model_path = Path(config.updated_base_model_path),\n",
    "                                                           params_input_shape = self.params.input_shape,\n",
    "                                                           params_batch_size = self.params.batch_size,\n",
    "                                                           params_num_classes = self.params.num_classes,\n",
    "                                                           params_weights = self.params.weights,\n",
    "                                                           params_include_top = self.params.include_top,\n",
    "                                                           params_learning_rate = self.params.learning_rate,\n",
    "                                                           params_horizontal_flip = self.params.horizontal_flip,\n",
    "                                                           params_rotation_range = self.params.rotation_range,\n",
    "                                                           params_zoom_range = self.params.zoom_range,\n",
    "                                                           params_epochs = self.params.epochs,\n",
    "                                                           params_dropout_rate = self.params.dropout_rate,\n",
    "                                                           params_weight_decay = self.params.weight_decay,\n",
    "                                                           params_freeze_all = self.params.freeze_all,\n",
    "                                                           params_freeze_till = self.params.freeze_till\n",
    "                                                           )\n",
    "        \n",
    "        return prepare_base_model_config\n",
    "\n",
    "\n"
   ]
  },
  {
   "cell_type": "code",
   "execution_count": 29,
   "metadata": {},
   "outputs": [],
   "source": [
    "## Update Components\n",
    "import os\n",
    "import tensorflow as tf"
   ]
  },
  {
   "cell_type": "code",
   "execution_count": 30,
   "metadata": {},
   "outputs": [],
   "source": [
    "class PrepareBaseModel:\n",
    "    def __init__(self, config: PrepareBaseModelConfig):\n",
    "        self.config = config\n",
    "    \n",
    "    def get_base_model(self):\n",
    "        self.model = tf.keras.applications.vgg16.VGG16(include_top = self.config.params_include_top,\n",
    "                                                       weights = self.config.params_weights,\n",
    "                                                       input_shape = self.config.params_input_shape\n",
    "                                                       )\n",
    "        \n",
    "        self.save_model(path = self.config.base_model_path, model = self.model)\n",
    "\n",
    "    ## Static Method is defined when we want to use a function that doesn't rely on the class\n",
    "    ## We cannot use self when a function is defined as static method\n",
    "    ## Static Function can be directly run without instantating the class. Use it directly as\n",
    "    ## PrepareBaseModel._prepare_full_model()\n",
    "\n",
    "    @staticmethod\n",
    "    def _prepare_full_model(model, classes:int, freeze_all:bool, freeze_till:int, learning_rate):\n",
    "        if freeze_all:\n",
    "            for layer in model.layers:\n",
    "                model.trainable = False\n",
    "        elif (freeze_till is not None) and (freeze_till>0):\n",
    "            for layer in model.layers[:-freeze_till]:\n",
    "                model.trainable = False\n",
    "        flatten_in = tf.keras.layers.Flatten()(model.output)\n",
    "        dense1 = tf.keras.layers.Dense(units = 2048, activation = \"relu\")(flatten_in)\n",
    "        dense2 = tf.keras.layers.Dense(units = 128, activation = \"relu\")(dense1)\n",
    "        prediction = tf.keras.layers.Dense(units = classes,\n",
    "                                           activation = \"softmax\")(dense2)\n",
    "        full_model = tf.keras.models.Model(model.input, \n",
    "                                           prediction)\n",
    "        full_model.compile(optimizer = tf.keras.optimizers.Adam(learning_rate = learning_rate),\n",
    "                           loss = tf.keras.losses.CategoricalCrossentropy(),\n",
    "                           metrics = [\"accuracy\", \"precision\", \"recall\"])\n",
    "        \n",
    "        full_model.summary()\n",
    "        return full_model\n",
    "    \n",
    "    def update_base_model(self):\n",
    "        self.full_model = self._prepare_full_model(model = self.model, \n",
    "                                                   classes = self.config.params_num_classes, \n",
    "                                                   freeze_all = self.config.params_freeze_all, \n",
    "                                                   freeze_till = self.config.params_freeze_till, \n",
    "                                                   learning_rate = self.config.params_learning_rate)\n",
    "        self.save_model(path = self.config.updated_base_model_path, \n",
    "                        model = self.full_model)\n",
    "        \n",
    "    @staticmethod\n",
    "    def save_model(path: Path, model: tf.keras.Model):\n",
    "        model.save(filepath = path)\n",
    "\n",
    "\n",
    "\n",
    "    "
   ]
  },
  {
   "cell_type": "code",
   "execution_count": 31,
   "metadata": {},
   "outputs": [
    {
     "name": "stdout",
     "output_type": "stream",
     "text": [
      "[2024-08-29 08:23:38,692: INFO : common : config\\config.yaml loaded successfully]\n",
      "[2024-08-29 08:23:38,696: INFO : common : params\\params.yaml loaded successfully]\n",
      "[2024-08-29 08:23:38,698: INFO : common : secrets\\secrets.yaml loaded successfully]\n",
      "[2024-08-29 08:23:38,699: INFO : common : Parent Directories and Files Successfully Created]\n",
      "[2024-08-29 08:23:38,700: INFO : common : Parent Directories and Files Successfully Created]\n",
      "[2024-08-29 08:23:39,099: WARNING : saving_utils : Compiled the loaded model, but the compiled metrics have yet to be built. `model.compile_metrics` will be empty until you train or evaluate the model.]\n",
      "Model: \"model_2\"\n",
      "_________________________________________________________________\n",
      " Layer (type)                Output Shape              Param #   \n",
      "=================================================================\n",
      " input_3 (InputLayer)        [(None, 224, 224, 3)]     0         \n",
      "                                                                 \n",
      " block1_conv1 (Conv2D)       (None, 224, 224, 64)      1792      \n",
      "                                                                 \n",
      " block1_conv2 (Conv2D)       (None, 224, 224, 64)      36928     \n",
      "                                                                 \n",
      " block1_pool (MaxPooling2D)  (None, 112, 112, 64)      0         \n",
      "                                                                 \n",
      " block2_conv1 (Conv2D)       (None, 112, 112, 128)     73856     \n",
      "                                                                 \n",
      " block2_conv2 (Conv2D)       (None, 112, 112, 128)     147584    \n",
      "                                                                 \n",
      " block2_pool (MaxPooling2D)  (None, 56, 56, 128)       0         \n",
      "                                                                 \n",
      " block3_conv1 (Conv2D)       (None, 56, 56, 256)       295168    \n",
      "                                                                 \n",
      " block3_conv2 (Conv2D)       (None, 56, 56, 256)       590080    \n",
      "                                                                 \n",
      " block3_conv3 (Conv2D)       (None, 56, 56, 256)       590080    \n",
      "                                                                 \n",
      " block3_pool (MaxPooling2D)  (None, 28, 28, 256)       0         \n",
      "                                                                 \n",
      " block4_conv1 (Conv2D)       (None, 28, 28, 512)       1180160   \n",
      "                                                                 \n",
      " block4_conv2 (Conv2D)       (None, 28, 28, 512)       2359808   \n",
      "                                                                 \n",
      " block4_conv3 (Conv2D)       (None, 28, 28, 512)       2359808   \n",
      "                                                                 \n",
      " block4_pool (MaxPooling2D)  (None, 14, 14, 512)       0         \n",
      "                                                                 \n",
      " block5_conv1 (Conv2D)       (None, 14, 14, 512)       2359808   \n",
      "                                                                 \n",
      " block5_conv2 (Conv2D)       (None, 14, 14, 512)       2359808   \n",
      "                                                                 \n",
      " block5_conv3 (Conv2D)       (None, 14, 14, 512)       2359808   \n",
      "                                                                 \n",
      " block5_pool (MaxPooling2D)  (None, 7, 7, 512)         0         \n",
      "                                                                 \n",
      " flatten_2 (Flatten)         (None, 25088)             0         \n",
      "                                                                 \n",
      " dense_4 (Dense)             (None, 2048)              51382272  \n",
      "                                                                 \n",
      " dense_5 (Dense)             (None, 128)               262272    \n",
      "                                                                 \n",
      " dense_6 (Dense)             (None, 8)                 1032      \n",
      "                                                                 \n",
      "=================================================================\n",
      "Total params: 66,360,264\n",
      "Trainable params: 51,645,576\n",
      "Non-trainable params: 14,714,688\n",
      "_________________________________________________________________\n",
      "[2024-08-29 08:23:39,459: WARNING : saving_utils : Compiled the loaded model, but the compiled metrics have yet to be built. `model.compile_metrics` will be empty until you train or evaluate the model.]\n"
     ]
    }
   ],
   "source": [
    "## Create Pipeline\n",
    "try:\n",
    "    config = ConfigurationManager()\n",
    "    prepare_base_model_config = config.get_prepare_base_model_config()\n",
    "    prepare_base_model = PrepareBaseModel(config = prepare_base_model_config)\n",
    "    prepare_base_model.get_base_model()\n",
    "    prepare_base_model.update_base_model()\n",
    "except Exception as e:\n",
    "    raise e"
   ]
  },
  {
   "cell_type": "code",
   "execution_count": null,
   "metadata": {},
   "outputs": [],
   "source": []
  }
 ],
 "metadata": {
  "kernelspec": {
   "display_name": "chicken",
   "language": "python",
   "name": "python3"
  },
  "language_info": {
   "codemirror_mode": {
    "name": "ipython",
    "version": 3
   },
   "file_extension": ".py",
   "mimetype": "text/x-python",
   "name": "python",
   "nbconvert_exporter": "python",
   "pygments_lexer": "ipython3",
   "version": "3.8.19"
  }
 },
 "nbformat": 4,
 "nbformat_minor": 2
}
