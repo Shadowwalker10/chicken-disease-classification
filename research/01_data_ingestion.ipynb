{
 "cells": [
  {
   "cell_type": "code",
   "execution_count": 35,
   "metadata": {},
   "outputs": [],
   "source": [
    "import os\n",
    "import shutil\n",
    "import sys"
   ]
  },
  {
   "cell_type": "code",
   "execution_count": 3,
   "metadata": {},
   "outputs": [
    {
     "data": {
      "text/plain": [
       "'d:\\\\Artificial Intelligence and Machine Learning\\\\End2End Projects\\\\chicken-disease-classification\\\\research'"
      ]
     },
     "execution_count": 3,
     "metadata": {},
     "output_type": "execute_result"
    }
   ],
   "source": [
    "%pwd"
   ]
  },
  {
   "cell_type": "code",
   "execution_count": 4,
   "metadata": {},
   "outputs": [],
   "source": [
    "os.chdir(\"../\")"
   ]
  },
  {
   "cell_type": "code",
   "execution_count": 38,
   "metadata": {},
   "outputs": [
    {
     "data": {
      "text/plain": [
       "'d:\\\\Artificial Intelligence and Machine Learning\\\\End2End Projects\\\\chicken-disease-classification'"
      ]
     },
     "execution_count": 38,
     "metadata": {},
     "output_type": "execute_result"
    }
   ],
   "source": [
    "%pwd"
   ]
  },
  {
   "cell_type": "code",
   "execution_count": 39,
   "metadata": {},
   "outputs": [],
   "source": [
    "## Define Entity for Data Ingestion\n",
    "from dataclasses import dataclass\n",
    "from pathlib import Path\n",
    "\n",
    "@dataclass(frozen = True)\n",
    "class DataIngestionConfig:\n",
    "    root_dir: Path\n",
    "    dataset_name: str\n",
    "    local_data_file: Path\n",
    "    unzip_dir: Path"
   ]
  },
  {
   "cell_type": "code",
   "execution_count": 40,
   "metadata": {},
   "outputs": [],
   "source": [
    "from src.cnnclassifier.constants import *\n",
    "from cnnclassifier.utils.common import *"
   ]
  },
  {
   "cell_type": "code",
   "execution_count": 41,
   "metadata": {},
   "outputs": [],
   "source": [
    "## Update Configuration Manager\n",
    "class ConfigurationManager:\n",
    "    def __init__(self, \n",
    "                 config_filepath = CONFIG_FILE_PATH, \n",
    "                 params_filepath = PARAMS_FILE_PATH,\n",
    "                 secret_filepath = SECRET_FILE_PATH):\n",
    "        self.config = read_yaml(config_filepath)\n",
    "        self.params = read_yaml(params_filepath)\n",
    "        self.secret = read_yaml(secret_filepath)\n",
    "\n",
    "        create_directories_files([self.config.artifacts_root])\n",
    "\n",
    "    \n",
    "    def get_data_ingestion_config(self)->DataIngestionConfig:\n",
    "        config = self.config.data_ingestion\n",
    "        create_directories_files([config.root_dir])\n",
    "\n",
    "        data_ingestion_config = DataIngestionConfig(root_dir=config.root_dir,\n",
    "                                                    dataset_name = config.dataset_name,\n",
    "                                                    local_data_file = config.local_data_file,\n",
    "                                                    unzip_dir = config.unzip_dir)\n",
    "        \n",
    "        return data_ingestion_config"
   ]
  },
  {
   "cell_type": "code",
   "execution_count": 1,
   "metadata": {},
   "outputs": [],
   "source": [
    "## Update Components\n",
    "import os\n",
    "import zipfile\n",
    "from cnnclassifier.logging import logger\n",
    "from kaggle.api.kaggle_api_extended import KaggleApi #download new token from kaggle for every session"
   ]
  },
  {
   "cell_type": "code",
   "execution_count": 43,
   "metadata": {},
   "outputs": [],
   "source": [
    "class DataIngestion:\n",
    "    def __init__(self, config: DataIngestionConfig):\n",
    "        self.config = config\n",
    "        self.api = KaggleApi()\n",
    "        self.api.authenticate()\n",
    "\n",
    "    def download_file(self):\n",
    "        logger.info(f\"Downloading Dataset: {self.config.dataset_name} to {self.config.local_data_file}\")\n",
    "        ## Extract the dataset \n",
    "        dataset_name = self.config.dataset_name\n",
    "        output_path = self.config.local_data_file\n",
    "\n",
    "        ## Download the dataset from kaggle\n",
    "        self.api.dataset_download_files(dataset = dataset_name, path = output_path, unzip = True)\n",
    "        logger.info(f\"{dataset_name} extracted successfully to {output_path}\")\n"
   ]
  },
  {
   "cell_type": "code",
   "execution_count": 45,
   "metadata": {},
   "outputs": [
    {
     "name": "stdout",
     "output_type": "stream",
     "text": [
      "[2024-08-26 16:30:11,308: INFO : common : config\\config.yaml loaded successfully]\n",
      "[2024-08-26 16:30:11,311: INFO : common : params\\params.yaml loaded successfully]\n",
      "[2024-08-26 16:30:11,314: INFO : common : secrets\\secrets.yaml loaded successfully]\n",
      "[2024-08-26 16:30:11,316: INFO : common : Parent Directories and Files Successfully Created]\n",
      "[2024-08-26 16:30:11,318: INFO : common : Parent Directories and Files Successfully Created]\n"
     ]
    },
    {
     "ename": "SystemExit",
     "evalue": "",
     "output_type": "error",
     "traceback": [
      "An exception has occurred, use %tb to see the full traceback.\n",
      "\u001b[1;31mSystemExit\u001b[0m\n"
     ]
    }
   ],
   "source": [
    "## Create DataIngestionPipeline\n",
    "try:\n",
    "    config = ConfigurationManager()\n",
    "    data_ingestion_config = config.get_data_ingestion_config()\n",
    "    data_ingestion = DataIngestion(config=data_ingestion_config)\n",
    "    if \"train_data.csv\"  in os.listdir(data_ingestion_config.local_data_file):sys.exit()\n",
    "    data_ingestion.download_file()\n",
    "    source_dir = Path(os.path.join(data_ingestion_config.local_data_file, \n",
    "             os.listdir(data_ingestion_config.local_data_file)[0]))\n",
    "    image_files = os.listdir(source_dir)\n",
    "    for img in image_files:\n",
    "        class_name = img.split(\".\")[0]\n",
    "        ##create class directory if not exists\n",
    "        class_directory = source_dir/class_name\n",
    "        if not class_directory.exists():\n",
    "            class_directory.mkdir()\n",
    "        ## Move the image to class directory\n",
    "        source_path = source_dir/img\n",
    "        destination_path = class_directory/img\n",
    "        shutil.move(src=str(source_path), dst=str(destination_path))\n",
    "        \n",
    "except Exception as e:\n",
    "    raise e"
   ]
  },
  {
   "cell_type": "code",
   "execution_count": null,
   "metadata": {},
   "outputs": [],
   "source": []
  }
 ],
 "metadata": {
  "kernelspec": {
   "display_name": "chicken",
   "language": "python",
   "name": "python3"
  },
  "language_info": {
   "codemirror_mode": {
    "name": "ipython",
    "version": 3
   },
   "file_extension": ".py",
   "mimetype": "text/x-python",
   "name": "python",
   "nbconvert_exporter": "python",
   "pygments_lexer": "ipython3",
   "version": "3.8.19"
  }
 },
 "nbformat": 4,
 "nbformat_minor": 2
}
