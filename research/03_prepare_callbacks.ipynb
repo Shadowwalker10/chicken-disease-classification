{
 "cells": [
  {
   "cell_type": "code",
   "execution_count": 1,
   "metadata": {},
   "outputs": [],
   "source": [
    "import os"
   ]
  },
  {
   "cell_type": "code",
   "execution_count": 2,
   "metadata": {},
   "outputs": [
    {
     "data": {
      "text/plain": [
       "'d:\\\\Artificial Intelligence and Machine Learning\\\\End2End Projects\\\\chicken-disease-classification\\\\research'"
      ]
     },
     "execution_count": 2,
     "metadata": {},
     "output_type": "execute_result"
    }
   ],
   "source": [
    "%pwd"
   ]
  },
  {
   "cell_type": "code",
   "execution_count": 3,
   "metadata": {},
   "outputs": [],
   "source": [
    "os.chdir(\"../\")"
   ]
  },
  {
   "cell_type": "code",
   "execution_count": 4,
   "metadata": {},
   "outputs": [
    {
     "data": {
      "text/plain": [
       "'d:\\\\Artificial Intelligence and Machine Learning\\\\End2End Projects\\\\chicken-disease-classification'"
      ]
     },
     "execution_count": 4,
     "metadata": {},
     "output_type": "execute_result"
    }
   ],
   "source": [
    "%pwd"
   ]
  },
  {
   "cell_type": "code",
   "execution_count": 11,
   "metadata": {},
   "outputs": [],
   "source": [
    "## Define the entity\n",
    "\n",
    "from dataclasses import dataclass\n",
    "from pathlib import Path\n",
    "@dataclass(frozen = True)\n",
    "class PrepareCallbacksConfig:\n",
    "    root_dir: Path\n",
    "    tensorboard_root_log_dir: Path\n",
    "    checkpoint_model_filepath: Path    "
   ]
  },
  {
   "cell_type": "code",
   "execution_count": 12,
   "metadata": {},
   "outputs": [],
   "source": [
    "from cnnclassifier.constants import *\n",
    "from cnnclassifier.utils.common import *\n",
    "from pathlib import Path\n",
    "class ConfigurationManager:\n",
    "    def __init__(self, \n",
    "                 config_filepath = CONFIG_FILE_PATH, \n",
    "                 params_filepath = PARAMS_FILE_PATH,\n",
    "                 secret_filepath = SECRET_FILE_PATH):\n",
    "        self.config = read_yaml(config_filepath)\n",
    "        self.params = read_yaml(params_filepath)\n",
    "        self.secret = read_yaml(secret_filepath)\n",
    "\n",
    "        create_directories_files([self.config.artifacts_root])\n",
    "    \n",
    "    def get_callbacks_config(self)-> PrepareCallbacksConfig:\n",
    "        config = self.config.prepare_callbacks\n",
    "        create_directories_files([config.root_dir])\n",
    "        create_directories_files([config.tensorboard_root_log_dir])\n",
    "        create_directories_files([os.path.dirname(config.checkpoint_model_filepath)])\n",
    "\n",
    "\n",
    "        prepare_callbacks_config = PrepareCallbacksConfig(root_dir = Path(config.root_dir), \n",
    "                                                          tensorboard_root_log_dir= Path(config.tensorboard_root_log_dir),\n",
    "                                                          checkpoint_model_filepath = Path(config.checkpoint_model_filepath))\n",
    "        \n",
    "        return prepare_callbacks_config\n",
    "        "
   ]
  },
  {
   "cell_type": "code",
   "execution_count": 13,
   "metadata": {},
   "outputs": [],
   "source": [
    "## Update components\n",
    "import tensorflow as tf\n",
    "import time\n",
    "import os\n"
   ]
  },
  {
   "cell_type": "code",
   "execution_count": 15,
   "metadata": {},
   "outputs": [],
   "source": [
    "class PrepareCallbacks:\n",
    "    def __init__(self, config: PrepareCallbacksConfig):\n",
    "        self.config = config\n",
    "\n",
    "    @property\n",
    "    def _create_tb_callbacks(self):\n",
    "        timestamp = time.strftime(\"%Y-%m-%d-%H-%M-%S\")\n",
    "        tb_running_log_dir = os.path.join(self.config.tensorboard_root_log_dir,\n",
    "                                          f\"tb_logs_at_{timestamp}\")\n",
    "        return tf.keras.callbacks.TensorBoard(log_dir = tb_running_log_dir)\n",
    "    \n",
    "    @property\n",
    "    def _create_ckpt_callbacks(self):\n",
    "        return tf.keras.callbacks.ModelCheckpoint(filepath = self.config.checkpoint_model_filepath, \n",
    "                                                  save_best_only = True)\n",
    "    \n",
    "    @property\n",
    "    def _create_reduce_lr_callbacks(self):\n",
    "        return tf.keras.callbacks.ReduceLROnPlateau(monitor = \"val_loss\", \n",
    "                                                    factor = 0.2, \n",
    "                                                    patience = 5, \n",
    "                                                    min_lr = 0.001)\n",
    "    \n",
    "    @property\n",
    "    def _create_earlystopping_callbacks(self):\n",
    "        return tf.keras.callbacks.EarlyStopping(monitor = \"val_loss\", \n",
    "                                                patience = 10)\n",
    "    \n",
    "    def get_tb_ckpt_callbacks(self):\n",
    "        return [self._create_tb_callbacks, \n",
    "                 self._create_ckpt_callbacks,\n",
    "                 self._create_reduce_lr_callbacks, \n",
    "                 self._create_earlystopping_callbacks]"
   ]
  },
  {
   "cell_type": "code",
   "execution_count": 16,
   "metadata": {},
   "outputs": [
    {
     "name": "stdout",
     "output_type": "stream",
     "text": [
      "[2024-08-30 10:04:17,208: INFO : common : config\\config.yaml loaded successfully]\n",
      "[2024-08-30 10:04:17,224: INFO : common : params\\params.yaml loaded successfully]\n",
      "[2024-08-30 10:04:17,227: INFO : common : secrets\\secrets.yaml loaded successfully]\n",
      "[2024-08-30 10:04:17,230: INFO : common : Parent Directories and Files Successfully Created]\n",
      "[2024-08-30 10:04:17,232: INFO : common : Parent Directories and Files Successfully Created]\n",
      "[2024-08-30 10:04:17,233: INFO : common : Parent Directories and Files Successfully Created]\n",
      "[2024-08-30 10:04:17,235: INFO : common : Parent Directories and Files Successfully Created]\n"
     ]
    }
   ],
   "source": [
    "## Create Pipeline\n",
    "try:\n",
    "    config = ConfigurationManager()\n",
    "    prepare_callbacks_config = config.get_callbacks_config()\n",
    "    prepare_callbacks = PrepareCallbacks(config = prepare_callbacks_config)\n",
    "    callbacks_lst = prepare_callbacks.get_tb_ckpt_callbacks()\n",
    "except Exception as e:\n",
    "    raise e"
   ]
  },
  {
   "cell_type": "code",
   "execution_count": null,
   "metadata": {},
   "outputs": [],
   "source": []
  }
 ],
 "metadata": {
  "kernelspec": {
   "display_name": "chicken",
   "language": "python",
   "name": "python3"
  },
  "language_info": {
   "codemirror_mode": {
    "name": "ipython",
    "version": 3
   },
   "file_extension": ".py",
   "mimetype": "text/x-python",
   "name": "python",
   "nbconvert_exporter": "python",
   "pygments_lexer": "ipython3",
   "version": "3.8.19"
  }
 },
 "nbformat": 4,
 "nbformat_minor": 2
}
